{
 "cells": [
  {
   "cell_type": "code",
   "execution_count": 1,
   "metadata": {},
   "outputs": [],
   "source": [
    "import numpy as np\n",
    "import pandas as pd\n",
    "import subprocess\n",
    "import tempfile\n",
    "import multiprocessing\n",
    "\n",
    "from primo.tools.barcoder import Barcoder"
   ]
  },
  {
   "cell_type": "code",
   "execution_count": 2,
   "metadata": {},
   "outputs": [],
   "source": [
    "IP = \"AGCACTCAGTATTTGTCCG\""
   ]
  },
  {
   "cell_type": "code",
   "execution_count": 3,
   "metadata": {},
   "outputs": [],
   "source": [
    "barcode_order = pd.read_csv('/tf/primo/data/metadata/target_barcode_order.csv.gz')"
   ]
  },
  {
   "cell_type": "code",
   "execution_count": 4,
   "metadata": {},
   "outputs": [],
   "source": [
    "barcoder = Barcoder(\n",
    "    n_data_symbols   = 4,\n",
    "    n_check_symbols  = 2,\n",
    "    bits_per_symbol  = 6,\n",
    "    bases_per_symbol = 5,\n",
    "    seed = 42\n",
    ")\n",
    "def decode_barcode(barcode):\n",
    "    return barcoder.barcode_seq_to_num(barcode.strip())"
   ]
  },
  {
   "cell_type": "code",
   "execution_count": 5,
   "metadata": {},
   "outputs": [],
   "source": [
    "def decode_index(path_glob):\n",
    "    \n",
    "    with tempfile.NamedTemporaryFile() as temp:\n",
    "        \n",
    "        if path_glob.endswith(\".gz\"):\n",
    "            cat_cmd = \"zcat %s\" % path_glob\n",
    "        else:\n",
    "            cat_cmd = \"cat %s\" % path_glob\n",
    "    \n",
    "        # extract barcodes\n",
    "        subprocess.call(\n",
    "            (cat_cmd + \"| egrep -o '[ATCGN]{30}%s' | cut -b 1-30 > %s\") % (\n",
    "                IP,\n",
    "                temp.name\n",
    "            ),\n",
    "            shell = True\n",
    "        )\n",
    "        \n",
    "        barcodes = temp.readlines()\n",
    "            \n",
    "    # decode\n",
    "    pool = multiprocessing.Pool()\n",
    "    try:\n",
    "        results = np.array(pool.map(decode_barcode, barcodes))\n",
    "    finally:\n",
    "        pool.close()\n",
    "    \n",
    "    decoded = results[results != None].astype(int)\n",
    "    \n",
    "    counts = np.bincount(decoded, minlength=len(barcode_order))[:len(barcode_order)]\n",
    "    \n",
    "    return counts"
   ]
  },
  {
   "cell_type": "code",
   "execution_count": 6,
   "metadata": {},
   "outputs": [],
   "source": [
    "def decode_run(run_id):\n",
    "    run_path = '/tf/primo/data/sequencing/%s/' % run_id\n",
    "    \n",
    "    # open run meta\n",
    "    run_meta = pd.read_csv(run_path + 'index.csv')\n",
    "    with open(run_path + 'location') as f:\n",
    "        location = f.readline().strip()\n",
    "        \n",
    "    # decode each index\n",
    "    counts = []\n",
    "    for ix in run_meta.sequencing_index:\n",
    "        print (run_id, ix)\n",
    "        path_glob = location % ix\n",
    "        counts.append(decode_index(path_glob))\n",
    "\n",
    "    # save\n",
    "    df = pd.DataFrame(\n",
    "       np.array(counts),\n",
    "       index = run_meta.sequencing_index,\n",
    "       columns = barcode_order.ImageID\n",
    "    )\n",
    "    df.to_pickle(run_path + 'decoded.pkl.gz')\n",
    "    \n",
    "    return df"
   ]
  },
  {
   "cell_type": "code",
   "execution_count": 7,
   "metadata": {},
   "outputs": [
    {
     "name": "stdout",
     "output_type": "stream",
     "text": [
      "('Run_92', 'E4')\n",
      "('Run_92', 'E6')\n",
      "('Run_92', 'E7')\n",
      "('Run_92', 'E8')\n",
      "('Run_92', 'E9')\n",
      "('Run_92', 'D4')\n",
      "('Run_92', 'D8')\n",
      "('Run_92', 'D9')\n",
      "('Run_92', 'D12')\n",
      "('Run_92', 'E1')\n"
     ]
    }
   ],
   "source": [
    "df = decode_run(\"Run_92\")"
   ]
  },
  {
   "cell_type": "code",
   "execution_count": null,
   "metadata": {},
   "outputs": [],
   "source": []
  },
  {
   "cell_type": "code",
   "execution_count": null,
   "metadata": {},
   "outputs": [],
   "source": []
  }
 ],
 "metadata": {
  "kernelspec": {
   "display_name": "Python 2",
   "language": "python",
   "name": "python2"
  },
  "language_info": {
   "codemirror_mode": {
    "name": "ipython",
    "version": 2
   },
   "file_extension": ".py",
   "mimetype": "text/x-python",
   "name": "python",
   "nbconvert_exporter": "python",
   "pygments_lexer": "ipython2",
   "version": "2.7.15+"
  }
 },
 "nbformat": 4,
 "nbformat_minor": 2
}
